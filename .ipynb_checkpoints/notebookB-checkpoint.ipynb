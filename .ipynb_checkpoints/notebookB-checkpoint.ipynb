{
 "cells": [
  {
   "cell_type": "markdown",
   "metadata": {},
   "source": [
    "# B) Speculation Watch List"
   ]
  },
  {
   "cell_type": "code",
   "execution_count": 1,
   "metadata": {},
   "outputs": [],
   "source": [
    "import numpy as np"
   ]
  },
  {
   "cell_type": "code",
   "execution_count": 2,
   "metadata": {},
   "outputs": [],
   "source": [
    "data = np.loadtxt('data/Speculation_Watch_List.csv', delimiter=',', usecols=(11), skiprows=1, converters={1: lambda s:float(str(s.decode()).replace(\",\",\".\"))})"
   ]
  },
  {
   "cell_type": "code",
   "execution_count": 3,
   "metadata": {},
   "outputs": [
    {
     "name": "stdout",
     "output_type": "stream",
     "text": [
      "Los precios más bajos son:  [ 500000.  750000.  871215.  950000. 1400000.]\n",
      "Mientras que los más altos:  [90000000. 74700000. 64500000. 62000000. 60000000.]\n"
     ]
    }
   ],
   "source": [
    "pricesAsc = np.sort(data)\n",
    "print(\"Los precios más bajos son: \", pricesAsc[:5])\n",
    "print(\"Mientras que los más altos: \", pricesAsc[::-1][:5])"
   ]
  },
  {
   "cell_type": "code",
   "execution_count": 4,
   "metadata": {},
   "outputs": [
    {
     "name": "stdout",
     "output_type": "stream",
     "text": [
      "El precio mínimo es:  500000.0\n",
      "El precio máximo es :  90000000.0\n"
     ]
    }
   ],
   "source": [
    "print(\"El precio mínimo es: \", pricesAsc.min())\n",
    "print(\"El precio máximo es : \", pricesAsc.max())"
   ]
  },
  {
   "cell_type": "code",
   "execution_count": 5,
   "metadata": {},
   "outputs": [
    {
     "name": "stdout",
     "output_type": "stream",
     "text": [
      "La media de los precios es:  9284909.49\n",
      "La mediana de dichos precios la podemos encontrar en el valor:  6775000.0\n"
     ]
    }
   ],
   "source": [
    "print(\"La media de los precios es: \", round(pricesAsc.mean(), 2))\n",
    "print(\"La mediana de dichos precios la podemos encontrar en el valor: \", np.median(pricesAsc))"
   ]
  },
  {
   "cell_type": "markdown",
   "metadata": {},
   "source": [
    "Vamos a ver cual es la zona mas cara. La zona la obtendremos con las columnas del df borough y boro. Para ello cogeremos la mediana de las diferentes zonas."
   ]
  },
  {
   "cell_type": "code",
   "execution_count": 6,
   "metadata": {},
   "outputs": [
    {
     "name": "stdout",
     "output_type": "stream",
     "text": [
      "[('BX', 2,  6120000) ('BX', 2,  4880000) ('BX', 2, 11989543)\n",
      " ('BX', 2,  1825000) ('BK', 3,  9475000) ('MN', 1, 10200000)\n",
      " ('BK', 3,  9250000) ('QN', 4,  2650000) ('MN', 1,  5500000)\n",
      " ('MN', 1,  7875000)]\n"
     ]
    }
   ],
   "source": [
    "data = np.loadtxt('data/Speculation_Watch_List.csv', delimiter=',', usecols=(0, 1, 11), skiprows=1, dtype=[('borough', np.unicode_, 12), ('boro', 'i4'), ('price', 'i4')])\n",
    "print(data[:10])"
   ]
  },
  {
   "cell_type": "code",
   "execution_count": 7,
   "metadata": {},
   "outputs": [],
   "source": [
    "# Realizamos la mediana realizando un group by por la variable 'borough'\n",
    "boroughData = data['borough']\n",
    "boroughUnique = np.unique(boroughData)\n",
    "priceBtweenBorough = np.array([(i, round(np.median(data['price'][boroughData == i]), 2)) for i in boroughUnique], dtype=[('borough', np.unicode_, 12), ('price', 'i4')])"
   ]
  },
  {
   "cell_type": "code",
   "execution_count": 8,
   "metadata": {},
   "outputs": [
    {
     "name": "stdout",
     "output_type": "stream",
     "text": [
      "La mediana de los precios de las diferentes zonas es:\n",
      " [('BK', 6325000) ('BX', 5600000) ('MN', 8560193) ('QN', 5168000)\n",
      " ('SI', 2100000)]\n"
     ]
    }
   ],
   "source": [
    "print(\"La mediana de los precios de las diferentes zonas es:\\n\", priceBtweenBorough)"
   ]
  },
  {
   "cell_type": "code",
   "execution_count": 9,
   "metadata": {},
   "outputs": [
    {
     "name": "stdout",
     "output_type": "stream",
     "text": [
      "EL lugar con la mediana más elevada es  MN\n",
      "Su media es de:  8560193\n"
     ]
    }
   ],
   "source": [
    "argmax = priceBtweenBorough[priceBtweenBorough['price'].argmax()]\n",
    "print(\"EL lugar con la mediana más elevada es \", argmax[0])\n",
    "print(\"Su media es de: \", argmax[1])"
   ]
  },
  {
   "cell_type": "code",
   "execution_count": 10,
   "metadata": {},
   "outputs": [
    {
     "name": "stdout",
     "output_type": "stream",
     "text": [
      "EL lugar con la mediana más pequeña es  SI\n",
      "Su media es de:  2100000\n"
     ]
    }
   ],
   "source": [
    "argmin = priceBtweenBorough[priceBtweenBorough['price'].argmin()]\n",
    "print(\"EL lugar con la mediana más pequeña es \", argmin[0])\n",
    "print(\"Su media es de: \", argmin[1])"
   ]
  },
  {
   "cell_type": "markdown",
   "metadata": {},
   "source": [
    "Ahora vamos a mirar si vemos algún patrón que pueda indicarnos que diferencias encontramos entre la zona con los precios mayores y menores. Para ello vamos a trabajar con las columnas que nos indican el ratio de capitalización. Estas son **cap_rate** y **borough_cap_rate**."
   ]
  },
  {
   "cell_type": "code",
   "execution_count": 11,
   "metadata": {},
   "outputs": [
    {
     "name": "stdout",
     "output_type": "stream",
     "text": [
      "[('BX', 0.038, 0.044) ('BX', 0.038, 0.044) ('BX', 0.033, 0.034)\n",
      " ('BX', 0.034, 0.046) ('BK', 0.024, 0.034)]\n"
     ]
    }
   ],
   "source": [
    "data = np.loadtxt('data/Speculation_Watch_List.csv', delimiter=',', usecols=(0, 12, 13), skiprows=1, dtype=[('borough', np.unicode_, 12), ('cap_rate', 'f4'), ('borough_cap_rate', 'f4')])\n",
    "print(data[:5])"
   ]
  },
  {
   "cell_type": "code",
   "execution_count": 12,
   "metadata": {},
   "outputs": [],
   "source": [
    "maximunPriceBorough = data[data['borough'] == argmax[0]]"
   ]
  },
  {
   "cell_type": "code",
   "execution_count": 13,
   "metadata": {},
   "outputs": [
    {
     "name": "stdout",
     "output_type": "stream",
     "text": [
      "El ratio de capitalización media de la zona más cara es de  0.03262195  y la mediana de  0.031\n",
      "La desviación estàndar  0.011226211\n"
     ]
    }
   ],
   "source": [
    "print(\"El ratio de capitalización media de la zona más cara es de \", np.mean(maximunPriceBorough['cap_rate']), \" y la mediana de \", np.median(maximunPriceBorough['cap_rate']))\n",
    "print(\"La desviación estàndar \", np.std(maximunPriceBorough['cap_rate']))"
   ]
  },
  {
   "cell_type": "code",
   "execution_count": 14,
   "metadata": {},
   "outputs": [
    {
     "name": "stdout",
     "output_type": "stream",
     "text": [
      "El ratio de capitalización media de la zona más barata es de  0.044579268  y la mediana de  0.05\n",
      "La desviación estàndar  0.01066507\n"
     ]
    }
   ],
   "source": [
    "print(\"El ratio de capitalización media de la zona más barata es de \", np.mean(maximunPriceBorough['borough_cap_rate']), \" y la mediana de \", np.median(maximunPriceBorough['borough_cap_rate']))\n",
    "print(\"La desviación estàndar \", np.std(maximunPriceBorough['borough_cap_rate']))"
   ]
  },
  {
   "cell_type": "code",
   "execution_count": 15,
   "metadata": {},
   "outputs": [],
   "source": [
    "minimunPriceBorough = data[data['borough'] == argmin[0]]"
   ]
  },
  {
   "cell_type": "code",
   "execution_count": 16,
   "metadata": {},
   "outputs": [
    {
     "name": "stdout",
     "output_type": "stream",
     "text": [
      "El ratio de capitalización media es de  0.04975  y la mediana de  0.045\n",
      "La desviación estàndar  0.010685856\n"
     ]
    }
   ],
   "source": [
    "print(\"El ratio de capitalización media es de \", np.mean(minimunPriceBorough['cap_rate']), \" y la mediana de \", np.median(minimunPriceBorough['cap_rate']))\n",
    "print(\"La desviación estàndar \", np.std(minimunPriceBorough['cap_rate']))"
   ]
  },
  {
   "cell_type": "code",
   "execution_count": 17,
   "metadata": {},
   "outputs": [
    {
     "name": "stdout",
     "output_type": "stream",
     "text": [
      "El ratio de capitalización media es de  0.061499998  y la mediana de  0.061499998\n",
      "La desviación estàndar  0.011543396\n"
     ]
    }
   ],
   "source": [
    "print(\"El ratio de capitalización media es de \", np.mean(minimunPriceBorough['borough_cap_rate']), \" y la mediana de \", np.median(minimunPriceBorough['borough_cap_rate']))\n",
    "print(\"La desviación estàndar \", np.std(minimunPriceBorough['borough_cap_rate']))"
   ]
  },
  {
   "cell_type": "markdown",
   "metadata": {},
   "source": [
    "Como podemos ver tanto el **cap_rate** como el **borough_cap_rate** es mayor en la zona más barata."
   ]
  },
  {
   "cell_type": "code",
   "execution_count": 18,
   "metadata": {},
   "outputs": [
    {
     "name": "stdout",
     "output_type": "stream",
     "text": [
      "En concreto estamos hablando de una diferencia de  1.71  puntos porcentuales de 'cap_rate'\n",
      "Y de una diferencia de  1.69  puntos porcentuales de 'borough_cap_rate'\n"
     ]
    }
   ],
   "source": [
    "print(\"En concreto estamos hablando de una diferencia de \", round((np.mean(minimunPriceBorough['cap_rate'])-np.mean(maximunPriceBorough['cap_rate']))*100, 2), \" puntos porcentuales de 'cap_rate'\")\n",
    "print(\"Y de una diferencia de \", round((np.mean(minimunPriceBorough['borough_cap_rate'])-np.mean(maximunPriceBorough['borough_cap_rate']))*100, 2), \" puntos porcentuales de 'borough_cap_rate'\")"
   ]
  }
 ],
 "metadata": {
  "kernelspec": {
   "display_name": "Python 3 (ipykernel)",
   "language": "python",
   "name": "python3"
  },
  "language_info": {
   "codemirror_mode": {
    "name": "ipython",
    "version": 3
   },
   "file_extension": ".py",
   "mimetype": "text/x-python",
   "name": "python",
   "nbconvert_exporter": "python",
   "pygments_lexer": "ipython3",
   "version": "3.11.1"
  },
  "vscode": {
   "interpreter": {
    "hash": "d98aac1e535e903778b997b951760c462bbbaee0c80758d126e1de8ea64aebe1"
   }
  }
 },
 "nbformat": 4,
 "nbformat_minor": 2
}
