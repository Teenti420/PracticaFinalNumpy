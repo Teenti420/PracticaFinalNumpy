{
 "cells": [
  {
   "cell_type": "markdown",
   "metadata": {},
   "source": [
    "# A) Tabla de INEbase Balears\n",
    "## Illes por municipios y fenómeno demográfico . MNP Estadística de Defunciones"
   ]
  },
  {
   "cell_type": "code",
   "execution_count": 1,
   "metadata": {},
   "outputs": [],
   "source": [
    "import numpy as np"
   ]
  },
  {
   "cell_type": "code",
   "execution_count": 2,
   "metadata": {},
   "outputs": [
    {
     "data": {
      "text/plain": [
       "array([('07002 Alaior', 'nacidos vivos por residencia materna', '70'),\n",
       "       ('07002 Alaior', 'muertes fetales tardÃ\\xadas por residencia materna', '0'),\n",
       "       ('07002 Alaior', 'matrimonios por el lugar en que han fijado residen', '27'),\n",
       "       ('07002 Alaior', 'fallecidos por el lugar de residencia', '64'),\n",
       "       ('07002 Alaior', 'crecimiento vegetativo', '6')],\n",
       "      dtype=[('Municipios', '<U40'), ('FenDemografico', '<U50'), ('Total', '<U12')])"
      ]
     },
     "execution_count": 2,
     "metadata": {},
     "output_type": "execute_result"
    }
   ],
   "source": [
    "df = np.loadtxt('data/fenomenoDemograficoBalears.csv', delimiter=';', skiprows=1, dtype=[('Municipios', np.unicode_, 40), ('FenDemografico', np.unicode_, 50), ('Total', np.unicode_, 12)])\n",
    "df[:5]"
   ]
  },
  {
   "cell_type": "code",
   "execution_count": 3,
   "metadata": {},
   "outputs": [
    {
     "name": "stdout",
     "output_type": "stream",
     "text": [
      "Nuestro dataset tiene un total de  335  registros.\n"
     ]
    }
   ],
   "source": [
    "print(\"Nuestro dataset tiene un total de \", df.shape[0], \" registros.\") "
   ]
  },
  {
   "cell_type": "code",
   "execution_count": 4,
   "metadata": {},
   "outputs": [],
   "source": [
    "municipios = df['Municipios']\n",
    "fenDemografico = df['FenDemografico']\n",
    "total = df['Total']"
   ]
  },
  {
   "cell_type": "code",
   "execution_count": 5,
   "metadata": {},
   "outputs": [],
   "source": [
    "# Convertimos el array total de string a entero\n",
    "strToInt = lambda s: int(s.replace('.', ''))\n",
    "vfunc = np.vectorize(strToInt)\n",
    "total = vfunc(total)"
   ]
  },
  {
   "cell_type": "code",
   "execution_count": 6,
   "metadata": {},
   "outputs": [
    {
     "name": "stdout",
     "output_type": "stream",
     "text": [
      "Tenemos información de un total de  67  municipios de las Islas Baleares.\n"
     ]
    }
   ],
   "source": [
    "print(\"Tenemos información de un total de \", len(np.unique(municipios)), \" municipios de las Islas Baleares.\")\n"
   ]
  },
  {
   "cell_type": "code",
   "execution_count": 7,
   "metadata": {},
   "outputs": [
    {
     "name": "stdout",
     "output_type": "stream",
     "text": [
      "['crecimiento vegetativo' 'fallecidos por el lugar de residencia'\n",
      " 'matrimonios por el lugar en que han fijado residen'\n",
      " 'muertes fetales tardÃ\\xadas por residencia materna'\n",
      " 'nacidos vivos por residencia materna']\n"
     ]
    }
   ],
   "source": [
    "# Obtenemos los índices de los que son nacidos vivos por residencia materna\n",
    "valoresFenDemografico = np.unique(fenDemografico)\n",
    "print(valoresFenDemografico)"
   ]
  },
  {
   "cell_type": "code",
   "execution_count": 8,
   "metadata": {},
   "outputs": [
    {
     "name": "stdout",
     "output_type": "stream",
     "text": [
      "El total de nacidos vivos por residencia materna es de  9455 .\n",
      "La media por población es de  141.12 .\n"
     ]
    }
   ],
   "source": [
    "indicesNVRM = np.where(fenDemografico == valoresFenDemografico[4])\n",
    "dataNVRM = total[indicesNVRM]\n",
    "print(\"El total de nacidos vivos por residencia materna es de \", dataNVRM.sum(), \".\\n\"\n",
    "      \"La media por población es de \", round(dataNVRM.mean(), 2), \".\")"
   ]
  },
  {
   "cell_type": "code",
   "execution_count": 9,
   "metadata": {},
   "outputs": [
    {
     "name": "stdout",
     "output_type": "stream",
     "text": [
      "El total de los fallecidos por el lugar de residencia son:  8559\n",
      "La media por población de los fallecidos es de:  127.74626865671642\n",
      "La desviación típica por población es de:  405.29334661999485\n"
     ]
    }
   ],
   "source": [
    "# Encontramos los índices de los que son fallecidos por el lugar de residencia estos son los de \n",
    "# la posición 1 del vector de valoresFenDemografico\n",
    "indicesFLR = np.where(fenDemografico == valoresFenDemografico[1])\n",
    "dataFLR = total[indicesFLR]\n",
    "print(\"El total de los fallecidos por el lugar de residencia son: \", dataFLR.sum())\n",
    "print(\"La media por población de los fallecidos es de: \", dataFLR.mean())\n",
    "print(\"La desviación típica por población es de: \", dataFLR.std())"
   ]
  },
  {
   "cell_type": "code",
   "execution_count": 10,
   "metadata": {},
   "outputs": [],
   "source": [
    "dframe = [(municipios[i], fenDemografico[i], total[i]) for i in range(0, df.shape[0])]\n",
    "dframe = np.array(dframe, dtype=[('Municipios', np.unicode_, 40), ('FenDemografico', np.unicode_, 50), ('Total', '<i4')])"
   ]
  },
  {
   "cell_type": "code",
   "execution_count": 11,
   "metadata": {},
   "outputs": [
    {
     "name": "stdout",
     "output_type": "stream",
     "text": [
      "[('07019 Escorca', 'fallecidos por el lugar de residencia', 0)\n",
      " ('07007 Banyalbufar', 'fallecidos por el lugar de residencia', 2)\n",
      " ('07021 Estellencs', 'fallecidos por el lugar de residencia', 3)\n",
      " ('07025 Fornalutx', 'fallecidos por el lugar de residencia', 3)\n",
      " ('07902 Migjorn Gran, Es', 'fallecidos por el lugar de residencia', 3)]\n"
     ]
    }
   ],
   "source": [
    "# Ordenamos las series de los fallecidos por el lugar de residencia\n",
    "fallecidosOrdenadosAsc = np.sort(dframe[indicesFLR], order='Total')\n",
    "print(fallecidosOrdenadosAsc[:5])"
   ]
  },
  {
   "cell_type": "code",
   "execution_count": 12,
   "metadata": {},
   "outputs": [
    {
     "name": "stdout",
     "output_type": "stream",
     "text": [
      "[('07040 Palma', 'fallecidos por el lugar de residencia', 3355)\n",
      " ('07033 Manacor', 'fallecidos por el lugar de residencia',  341)\n",
      " ('07026 Eivissa', 'fallecidos por el lugar de residencia',  315)\n",
      " ('07011 CalviÃ\\xa0', 'fallecidos por el lugar de residencia',  294)\n",
      " ('07027 Inca', 'fallecidos por el lugar de residencia',  246)]\n"
     ]
    }
   ],
   "source": [
    "# Realizamos la ordenación descendente\n",
    "fallecidosOrdenadosDesc = fallecidosOrdenadosAsc[::-1]\n",
    "print(fallecidosOrdenadosDesc[:5])"
   ]
  },
  {
   "cell_type": "markdown",
   "metadata": {},
   "source": [
    "Ahora vamos a realizar la media y la desviación de los cinco indicadores por municipio"
   ]
  },
  {
   "cell_type": "code",
   "execution_count": 13,
   "metadata": {},
   "outputs": [
    {
     "name": "stdout",
     "output_type": "stream",
     "text": [
      "La media de los cinco indicadores por municipio es:\n",
      " [('crecimiento vegetativo', 13.37), ('fallecidos por el lugar de residencia', 127.75), ('matrimonios por el lugar en que han fijado residen', 44.18), ('muertes fetales tardÃ\\xadas por residencia materna', 0.6), ('nacidos vivos por residencia materna', 141.12)]\n"
     ]
    }
   ],
   "source": [
    "fenDemUn, _ = np.unique(fenDemografico, return_inverse=True)\n",
    "meanFenDem = [(i, round(np.mean(dframe['Total'][fenDemografico == i]), 2)) for i in fenDemUn]\n",
    "print(\"La media de los cinco indicadores por municipio es:\\n\", meanFenDem)"
   ]
  },
  {
   "cell_type": "code",
   "execution_count": 14,
   "metadata": {},
   "outputs": [
    {
     "name": "stdout",
     "output_type": "stream",
     "text": [
      "La desviación estándard de los cinco indicadores por municipio es:\n",
      " [('crecimiento vegetativo', 32.63), ('fallecidos por el lugar de residencia', 405.29), ('matrimonios por el lugar en que han fijado residen', 135.04), ('muertes fetales tardÃ\\xadas por residencia materna', 2.04), ('nacidos vivos por residencia materna', 408.25)]\n"
     ]
    }
   ],
   "source": [
    "stdFenDem = [(i, round(np.std(dframe['Total'][fenDemografico == i]), 2)) for i in fenDemUn]\n",
    "print(\"La desviación estándard de los cinco indicadores por municipio es:\\n\", stdFenDem)"
   ]
  }
 ],
 "metadata": {
  "kernelspec": {
   "display_name": "Python 3 (ipykernel)",
   "language": "python",
   "name": "python3"
  },
  "language_info": {
   "codemirror_mode": {
    "name": "ipython",
    "version": 3
   },
   "file_extension": ".py",
   "mimetype": "text/x-python",
   "name": "python",
   "nbconvert_exporter": "python",
   "pygments_lexer": "ipython3",
   "version": "3.11.1"
  }
 },
 "nbformat": 4,
 "nbformat_minor": 2
}
